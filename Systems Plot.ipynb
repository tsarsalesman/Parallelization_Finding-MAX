{
 "cells": [
  {
   "cell_type": "code",
   "execution_count": 5,
   "id": "b44ac2f6",
   "metadata": {},
   "outputs": [
    {
     "name": "stdout",
     "output_type": "stream",
     "text": [
      "Serial Output:\n",
      "Finds max of N values, using M threads (between 1 and 64)\n",
      "1 threads finding max of 1000000000 values\n",
      "\n",
      "Non-parallel max value:\t2147483645\n",
      "Time is 21.0447\n",
      "Parallel max value is:\t2147483645\n",
      "Total time for multi-thread 13.2187\n",
      "\n",
      "Time for serial execution: 41.61241292953491 seconds\n",
      "\n",
      "Parallel Output:\n",
      "Finds max of N values, using M threads (between 1 and 64)\n",
      "40 threads finding max of 1000000000 values\n",
      "\n",
      "Non-parallel max value:\t2147483646\n",
      "Time is 11.2449\n",
      "Parallel max value is:\t2147483646\n",
      "Total time for multi-thread 2.37827\n",
      "\n",
      "Time for parallel execution with 40 threads: 21.372178077697754 seconds\n"
     ]
    }
   ],
   "source": [
    "#Make sure this is in the same directory as pmax!\n",
    "\n",
    "import subprocess\n",
    "import time\n",
    "\n",
    "def run_parallel_program(N, num_threads):\n",
    "    command = [\"./pmax\", str(N), str(num_threads)]\n",
    "    result = subprocess.run(command, stdout=subprocess.PIPE, text=True)\n",
    "    return result.stdout\n",
    "\n",
    "def run_serial_program(N):\n",
    "    command = [\"./pmax\", str(N), \"1\"]\n",
    "    result = subprocess.run(command, stdout=subprocess.PIPE, text=True)\n",
    "    return result.stdout\n",
    "\n",
    "def measure_execution_time(func, *args):\n",
    "    start_time = time.time()\n",
    "    result = func(*args)\n",
    "    execution_time = time.time() - start_time\n",
    "    return result, execution_time\n",
    "\n",
    "def main():\n",
    "    N = 10**9\n",
    "    num_threads = 40  # Adjust based on specifications\n",
    "\n",
    "    # Measure execution time for serial solution\n",
    "    serial_output, serial_time = measure_execution_time(run_serial_program, N)\n",
    "    print(\"Serial Output:\")\n",
    "    print(serial_output)\n",
    "    print(f\"Time for serial execution: {serial_time} seconds\")\n",
    "\n",
    "    # Measure execution time for parallel solution\n",
    "    parallel_output, parallel_time = measure_execution_time(run_parallel_program, N, num_threads)\n",
    "    print(\"\\nParallel Output:\")\n",
    "    print(parallel_output)\n",
    "    print(f\"Time for parallel execution with {num_threads} threads: {parallel_time} seconds\")\n",
    "\n",
    "if __name__ == \"__main__\":\n",
    "    main()\n"
   ]
  },
  {
   "cell_type": "code",
   "execution_count": null,
   "id": "44cf7124",
   "metadata": {},
   "outputs": [],
   "source": []
  }
 ],
 "metadata": {
  "kernelspec": {
   "display_name": "Python 3 (ipykernel)",
   "language": "python",
   "name": "python3"
  },
  "language_info": {
   "codemirror_mode": {
    "name": "ipython",
    "version": 3
   },
   "file_extension": ".py",
   "mimetype": "text/x-python",
   "name": "python",
   "nbconvert_exporter": "python",
   "pygments_lexer": "ipython3",
   "version": "3.9.12"
  }
 },
 "nbformat": 4,
 "nbformat_minor": 5
}
